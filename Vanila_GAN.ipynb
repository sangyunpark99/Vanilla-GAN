{
  "cells": [
    {
      "cell_type": "markdown",
      "metadata": {
        "id": "view-in-github",
        "colab_type": "text"
      },
      "source": [
        "<a href=\"https://colab.research.google.com/github/sangyunpark99/Vanilla-GAN/blob/main/Vanila_GAN.ipynb\" target=\"_parent\"><img src=\"https://colab.research.google.com/assets/colab-badge.svg\" alt=\"Open In Colab\"/></a>"
      ]
    },
    {
      "cell_type": "markdown",
      "metadata": {
        "id": "o-BnOkvQ-kk3"
      },
      "source": [
        "# Vanilla Generative Adversarial Networks"
      ]
    },
    {
      "cell_type": "markdown",
      "metadata": {
        "id": "Eh0hELOh-kk5"
      },
      "source": [
        "## Imports"
      ]
    },
    {
      "cell_type": "code",
      "execution_count": 5,
      "metadata": {
        "id": "mQUnFkb7-kk6"
      },
      "outputs": [],
      "source": [
        "import time\n",
        "import numpy as np\n",
        "import torch\n",
        "import torch.nn.functional as F\n",
        "from torchvision import datasets\n",
        "from torchvision import transforms\n",
        "import torch.nn as nn\n",
        "from torch.utils.data import DataLoader\n",
        "\n",
        "\n",
        "if torch.cuda.is_available():\n",
        "    torch.backends.cudnn.deterministic = True"
      ]
    },
    {
      "cell_type": "markdown",
      "source": [
        "## Google Drive Connect"
      ],
      "metadata": {
        "id": "PWftvnZci_Tq"
      }
    },
    {
      "cell_type": "code",
      "source": [
        "from google.colab import drive\n",
        "drive.mount('/content/drive')"
      ],
      "metadata": {
        "colab": {
          "base_uri": "https://localhost:8080/"
        },
        "id": "lQl-mPo0jDFU",
        "outputId": "4c962466-47e5-443c-def3-e8640e512402"
      },
      "execution_count": 29,
      "outputs": [
        {
          "output_type": "stream",
          "name": "stdout",
          "text": [
            "Mounted at /content/drive\n"
          ]
        }
      ]
    },
    {
      "cell_type": "markdown",
      "metadata": {
        "id": "VlKZ0nm3-kk7"
      },
      "source": [
        "## Settings and Dataset"
      ]
    },
    {
      "cell_type": "code",
      "execution_count": 6,
      "metadata": {
        "id": "npgeDzYd-kk9",
        "outputId": "79bf97eb-9cea-4d4b-acb4-c6a76742ca91",
        "colab": {
          "base_uri": "https://localhost:8080/"
        }
      },
      "outputs": [
        {
          "output_type": "stream",
          "name": "stdout",
          "text": [
            "Image batch dimensions: torch.Size([128, 1, 28, 28])\n",
            "Image label dimensions: torch.Size([128])\n"
          ]
        }
      ],
      "source": [
        "# Device\n",
        "device = torch.device(\"cuda:0\" if torch.cuda.is_available() else \"cpu\")  # gpu이용가능시 gpu, 아닐시엔 cpu 할당\n",
        "\n",
        "# Hyperparameters\n",
        "random_seed = 123\n",
        "generator_learning_rate = 0.001\n",
        "discriminator_learning_rate = 0.001\n",
        "num_epochs = 100\n",
        "batch_size = 128\n",
        "LATENT_DIM = 100\n",
        "IMG_SHAPE = (1, 28, 28)\n",
        "IMG_SIZE = 1\n",
        "for x in IMG_SHAPE:\n",
        "    IMG_SIZE *= x\n",
        "\n",
        "\n",
        "train_dataset = datasets.MNIST(root='data', \n",
        "                               train=True, \n",
        "                               transform=transforms.ToTensor(),\n",
        "                               download=True) # 학습용 데이터 셋 로드\n",
        "\n",
        "test_dataset = datasets.MNIST(root='data', \n",
        "                              train=False, \n",
        "                              transform=transforms.ToTensor()) # 테스트용 데이터 셋 로드\n",
        "\n",
        "\n",
        "train_loader = DataLoader(dataset=train_dataset, \n",
        "                          batch_size=batch_size, \n",
        "                          shuffle=True) \n",
        "\n",
        "test_loader = DataLoader(dataset=test_dataset, \n",
        "                         batch_size=batch_size, \n",
        "                         shuffle=False)\n",
        "\n",
        "# Checking the dataset\n",
        "for images, labels in train_loader:  \n",
        "    print('Image batch dimensions:', images.shape)\n",
        "    print('Image label dimensions:', labels.shape)\n",
        "    break"
      ]
    },
    {
      "cell_type": "markdown",
      "metadata": {
        "id": "3eZ9pPBZ-kk_"
      },
      "source": [
        "## Model"
      ]
    },
    {
      "cell_type": "code",
      "execution_count": 7,
      "metadata": {
        "id": "xZKh2eQO-klB"
      },
      "outputs": [],
      "source": [
        "class GAN(torch.nn.Module):\n",
        "\n",
        "    def __init__(self):\n",
        "        super(GAN, self).__init__()\n",
        "        \n",
        "        \n",
        "        self.generator = nn.Sequential( # generator\n",
        "            nn.Linear(LATENT_DIM, 128),\n",
        "            nn.LeakyReLU(inplace=True),\n",
        "            nn.Dropout(p=0.5), # 과대적합 방지\n",
        "            nn.Linear(128, IMG_SIZE),\n",
        "            nn.Tanh()\n",
        "        )\n",
        "        \n",
        "        self.discriminator = nn.Sequential( # discriminator\n",
        "            nn.Linear(IMG_SIZE, 128),\n",
        "            nn.LeakyReLU(inplace=True),\n",
        "            nn.Dropout(p=0.5), # 과대적합 방지\n",
        "            nn.Linear(128, 1),\n",
        "            nn.Sigmoid()\n",
        "        )\n",
        "\n",
        "            \n",
        "    def generator_forward(self, z):\n",
        "        img = self.generator(z)\n",
        "        return img\n",
        "    \n",
        "    def discriminator_forward(self, img):\n",
        "        pred = self.discriminator(img)\n",
        "        print(f\"pred.view(-1) : {pred.view(-1)}\")\n",
        "        return pred.view(-1) # 판별 결과 텐서를 1차원 텐서로 변환 | -1은 나머지 차원을 자동으로 계산하여 텐서를 1차원으로 만듦"
      ]
    },
    {
      "cell_type": "code",
      "execution_count": 8,
      "metadata": {
        "id": "15U2RCmy-klD"
      },
      "outputs": [],
      "source": [
        "torch.manual_seed(random_seed)\n",
        "\n",
        "model = GAN()\n",
        "model = model.to(device)\n",
        "\n",
        "optim_gener = torch.optim.Adam(model.generator.parameters(), lr=generator_learning_rate)\n",
        "optim_discr = torch.optim.Adam(model.discriminator.parameters(), lr=discriminator_learning_rate)"
      ]
    },
    {
      "cell_type": "code",
      "source": [
        "model"
      ],
      "metadata": {
        "colab": {
          "base_uri": "https://localhost:8080/"
        },
        "id": "eh4EcGjGxkSV",
        "outputId": "e8a721e6-7bf5-422c-b58c-3f0e3bcd7168"
      },
      "execution_count": 9,
      "outputs": [
        {
          "output_type": "execute_result",
          "data": {
            "text/plain": [
              "GAN(\n",
              "  (generator): Sequential(\n",
              "    (0): Linear(in_features=100, out_features=128, bias=True)\n",
              "    (1): LeakyReLU(negative_slope=0.01, inplace=True)\n",
              "    (2): Dropout(p=0.5, inplace=False)\n",
              "    (3): Linear(in_features=128, out_features=784, bias=True)\n",
              "    (4): Tanh()\n",
              "  )\n",
              "  (discriminator): Sequential(\n",
              "    (0): Linear(in_features=784, out_features=128, bias=True)\n",
              "    (1): LeakyReLU(negative_slope=0.01, inplace=True)\n",
              "    (2): Dropout(p=0.5, inplace=False)\n",
              "    (3): Linear(in_features=128, out_features=1, bias=True)\n",
              "    (4): Sigmoid()\n",
              "  )\n",
              ")"
            ]
          },
          "metadata": {},
          "execution_count": 9
        }
      ]
    },
    {
      "cell_type": "markdown",
      "metadata": {
        "id": "Axtgz7ma-klE"
      },
      "source": [
        "## Training"
      ]
    },
    {
      "cell_type": "code",
      "execution_count": null,
      "metadata": {
        "id": "tUiEujqQ-klF"
      },
      "outputs": [],
      "source": [
        "start_time = time.time()    \n",
        "\n",
        "discr_costs = []\n",
        "gener_costs = []\n",
        "for epoch in range(num_epochs):\n",
        "    model = model.train()\n",
        "    for batch_idx, (features, targets) in enumerate(train_loader): # enumrate : 인덱스와 값을 동시에 반환\n",
        "\n",
        "        \n",
        "        \n",
        "        features = (features - 0.5)*2. # normalize화 시켜주기\n",
        "        features = features.view(-1, IMG_SIZE).to(device) \n",
        "        targets = targets.to(device) # targets : 정답 label\n",
        "\n",
        "        valid = torch.ones(targets.size(0)).float().to(device) # 진짜 이미지임을 나타냄\n",
        "        fake = torch.zeros(targets.size(0)).float().to(device) # 가짜 이미지임을 나타냄\n",
        "        \n",
        "\n",
        "        ### FORWARD AND BACK PROP\n",
        "        \n",
        "        \n",
        "        # --------------------------\n",
        "        # Generator 학습\n",
        "        # --------------------------\n",
        "        \n",
        "        # Make new images\n",
        "        z = torch.zeros((targets.size(0), LATENT_DIM)).uniform_(-1.0, 1.0).to(device)\n",
        "        generated_features = model.generator_forward(z)\n",
        "        \n",
        "        # Loss for fooling the discriminator\n",
        "        discr_pred = model.discriminator_forward(generated_features)\n",
        "        \n",
        "        gener_loss = F.binary_cross_entropy(discr_pred, valid) # 생성자의 손실함수를 계산\n",
        "        \n",
        "        optim_gener.zero_grad() # 이전 스텝의 기울기가 현재 스텝에 누적되지 않게 함\n",
        "        gener_loss.backward() # 역전파를 수행하여, 생성자 가중치 기울기 계산\n",
        "        optim_gener.step() # 계산된 기울기를 사용해 생성자의 가중치를 업데이트\n",
        "        \n",
        "        # --------------------------\n",
        "        # Discriminator 학습\n",
        "        # --------------------------        \n",
        "        \n",
        "        discr_pred_real = model.discriminator_forward(features.view(-1, IMG_SIZE)) # 실제 이미지를 입력받아 이미지가 진짜인지 가짜인지 판별\n",
        "        real_loss = F.binary_cross_entropy(discr_pred_real, valid) # 실제 이미지를 받았을때 얼마나 잘 분별하는지 측정하는 손실함수 계산 | valid : 진짜 이미지에 대한 정답 레이블\n",
        "        \n",
        "        discr_pred_fake = model.discriminator_forward(generated_features.detach()) # 가짜 이미지를 판별자에 입력하여 판별 결과 얻기 | detach : 생성자와 판별자의 그래디언트가 연결되지 않도록 가짜 이미지를 별도의 텐서로 분리\n",
        "        fake_loss = F.binary_cross_entropy(discr_pred_fake, fake) # 판별자가 가짜 이미지를 받았을 때 얼마나 잘 분류하는지 측정하는 손실 함수 | fake : 가짜 이미지에 대한 정답 레이블\n",
        "        \n",
        "        discr_loss = 0.5*(real_loss + fake_loss) # 판별자의 전체 손실 : 실제 이미지에 대한 손실과 가짜 이미지에 대한 손실의 평균\n",
        "\n",
        "        optim_discr.zero_grad() # 이전 스텝에 계산된 그래디언트를 초기화\n",
        "        discr_loss.backward() # 판별자의 손실에 대한 그래디언트 역전파 수행\n",
        "        optim_discr.step() # 계산된 그래디언트를 사용하여 판별자의 매개변수 업데이트\n",
        "        \n",
        "        discr_costs.append(discr_loss.item()) # 판별자의 손실을 기록\n",
        "        gener_costs.append(gener_loss.item()) # 생성자의 손실을 기록\n",
        "        \n",
        "        \n",
        "        ### LOGGING\n",
        "        if not batch_idx % 100: # batch_index가 100의 배수일 때마다 아래 코드를 실행\n",
        "            print ('Epoch: %03d/%03d | Batch %03d/%03d | Gen/Dis Loss: %.4f/%.4f' \n",
        "                   %(epoch+1, num_epochs, batch_idx, \n",
        "                     len(train_loader), gener_loss, discr_loss))\n",
        "\n",
        "    print('Time elapsed: %.2f min' % ((time.time() - start_time)/60))\n",
        "    \n",
        "print('Total Training Time: %.2f min' % ((time.time() - start_time)/60))"
      ]
    },
    {
      "cell_type": "markdown",
      "metadata": {
        "id": "K3g0kb4F-klH"
      },
      "source": [
        "## Evaluation"
      ]
    },
    {
      "cell_type": "code",
      "execution_count": 12,
      "metadata": {
        "id": "IrPAPyd0-klI"
      },
      "outputs": [],
      "source": [
        "import matplotlib.pyplot as plt"
      ]
    },
    {
      "cell_type": "code",
      "execution_count": 13,
      "metadata": {
        "id": "lZ-VMCpB-klJ",
        "outputId": "c417fb71-8fbb-4de4-e0d5-4603f5a25b96",
        "colab": {
          "base_uri": "https://localhost:8080/",
          "height": 430
        }
      },
      "outputs": [
        {
          "output_type": "display_data",
          "data": {
            "text/plain": [
              "<Figure size 640x480 with 1 Axes>"
            ],
            "image/png": "[encoded data removed]"
          },
          "metadata": {}
        }
      ],
      "source": [
        "plt.plot(range(len(gener_costs)), gener_costs, label='generator loss')\n",
        "plt.plot(range(len(discr_costs)), discr_costs, label='discriminator loss')\n",
        "plt.legend()\n",
        "plt.show()"
      ]
    },
    {
      "cell_type": "markdown",
      "source": [
        "## Result"
      ],
      "metadata": {
        "id": "XTDjKQvJhrEz"
      }
    },
    {
      "cell_type": "code",
      "execution_count": 28,
      "metadata": {
        "id": "DRJ_siNf-klK",
        "outputId": "f7553a6c-8970-4ea9-e2de-d0b332f8986f",
        "colab": {
          "base_uri": "https://localhost:8080/",
          "height": 255
        }
      },
      "outputs": [
        {
          "output_type": "display_data",
          "data": {
            "text/plain": [
              "<Figure size 2000x250 with 5 Axes>"
            ],
            "image/png": "[encoded data removed]"
          },
          "metadata": {}
        }
      ],
      "source": [
        "## 결과 출력!\n",
        "\n",
        "\n",
        "model.eval() # 모델을 평가 모드로 전환\n",
        "z = torch.zeros((5, LATENT_DIM)).uniform_(-1.0, 1.0).to(device) # 무작위 5개 벡터 생성\n",
        "generated_features = model.generator_forward(z) # 새로운 이미지 생성\n",
        "imgs = generated_features.view(-1, 28, 28) # 생성된 이미지를 적절한 형태로 변환 가로 28px, 세로 28px\n",
        "\n",
        "fig, axes = plt.subplots(nrows=1, ncols=5, figsize=(20, 2.5)) # 1행 5열 서브플롯을 생성하고, 가로 20인치, 세로 2.5인치\n",
        "\n",
        "\n",
        "for i, ax in enumerate(axes): # 생성된 이미지를 순회하며 각 이미지를 서브플롯에 출력\n",
        "    axes[i].imshow(imgs[i].to(torch.device('cpu')).detach(), cmap='binary') # 생성된 이미지를 CPU로 이동하고, 그래디언트 추적을 중단하기 위해 detach()함수를 호출, imshow()로 이미지 출력, colormap은 2진(흑백)으로 설정"
      ]
    }
  ],
  "metadata": {
    "kernelspec": {
      "display_name": "Python 3",
      "language": "python",
      "name": "python3"
    },
    "language_info": {
      "codemirror_mode": {
        "name": "ipython",
        "version": 3
      },
      "file_extension": ".py",
      "mimetype": "text/x-python",
      "name": "python",
      "nbconvert_exporter": "python",
      "pygments_lexer": "ipython3",
      "version": "3.6.8"
    },
    "toc": {
      "nav_menu": {},
      "number_sections": true,
      "sideBar": true,
      "skip_h1_title": false,
      "title_cell": "Table of Contents",
      "title_sidebar": "Contents",
      "toc_cell": false,
      "toc_position": {},
      "toc_section_display": true,
      "toc_window_display": false
    },
    "colab": {
      "provenance": [],
      "machine_shape": "hm",
      "include_colab_link": true
    },
    "accelerator": "GPU",
    "gpuClass": "standard"
  },
  "nbformat": 4,
  "nbformat_minor": 0
}